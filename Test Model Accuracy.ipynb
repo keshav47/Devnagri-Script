{
 "cells": [
  {
   "cell_type": "code",
   "execution_count": 13,
   "metadata": {},
   "outputs": [],
   "source": [
    "from keras.models import load_model\n",
    "import numpy as np\n",
    "from keras.preprocessing import image\n",
    "from keras.applications.imagenet_utils import preprocess_input\n",
    "from matplotlib.pyplot import imshow"
   ]
  },
  {
   "cell_type": "markdown",
   "metadata": {},
   "source": [
    "# LOADING THE TEST SET DATA"
   ]
  },
  {
   "cell_type": "code",
   "execution_count": 5,
   "metadata": {},
   "outputs": [],
   "source": [
    "X_test=np.load(\"X_test.npy\")\n",
    "Y_test=np.load(\"Y_test.npy\")"
   ]
  },
  {
   "cell_type": "markdown",
   "metadata": {},
   "source": [
    "# LOAD THE TRAINED MODEL"
   ]
  },
  {
   "cell_type": "code",
   "execution_count": 4,
   "metadata": {},
   "outputs": [],
   "source": [
    "devnagri_model = load_model(\"devnagri_params.h5\")"
   ]
  },
  {
   "cell_type": "markdown",
   "metadata": {},
   "source": [
    "#  TRAINING THE MODEL ON THE TEST SET FOR ACCURACY"
   ]
  },
  {
   "cell_type": "code",
   "execution_count": 6,
   "metadata": {},
   "outputs": [
    {
     "name": "stdout",
     "output_type": "stream",
     "text": [
      "13800/13800 [==============================] - 17s 1ms/step\n",
      "Loss = 0.13500062845882987\n",
      "Test Accuracy = 0.9660869565217391\n"
     ]
    }
   ],
   "source": [
    "preds = devnagri_model.evaluate(X_test, Y_test)\n",
    "print (\"Loss = \" + str(preds[0]))\n",
    "print (\"Test Accuracy = \" + str(preds[1]))"
   ]
  },
  {
   "cell_type": "markdown",
   "metadata": {},
   "source": [
    "# MODEL SUMMARY"
   ]
  },
  {
   "cell_type": "code",
   "execution_count": 7,
   "metadata": {},
   "outputs": [
    {
     "name": "stdout",
     "output_type": "stream",
     "text": [
      "_________________________________________________________________\n",
      "Layer (type)                 Output Shape              Param #   \n",
      "=================================================================\n",
      "input_1 (InputLayer)         (None, 32, 32, 3)         0         \n",
      "_________________________________________________________________\n",
      "conv0 (Conv2D)               (None, 28, 28, 6)         456       \n",
      "_________________________________________________________________\n",
      "bn0 (BatchNormalization)     (None, 28, 28, 6)         24        \n",
      "_________________________________________________________________\n",
      "activation_1 (Activation)    (None, 28, 28, 6)         0         \n",
      "_________________________________________________________________\n",
      "max_pool_1 (MaxPooling2D)    (None, 14, 14, 6)         0         \n",
      "_________________________________________________________________\n",
      "conv1 (Conv2D)               (None, 10, 10, 16)        2416      \n",
      "_________________________________________________________________\n",
      "bn1 (BatchNormalization)     (None, 10, 10, 16)        64        \n",
      "_________________________________________________________________\n",
      "activation_2 (Activation)    (None, 10, 10, 16)        0         \n",
      "_________________________________________________________________\n",
      "max_pool_2 (MaxPooling2D)    (None, 5, 5, 16)          0         \n",
      "_________________________________________________________________\n",
      "flatten_1 (Flatten)          (None, 400)               0         \n",
      "_________________________________________________________________\n",
      "fc1 (Dense)                  (None, 46)                18446     \n",
      "=================================================================\n",
      "Total params: 21,406\n",
      "Trainable params: 21,362\n",
      "Non-trainable params: 44\n",
      "_________________________________________________________________\n"
     ]
    }
   ],
   "source": [
    "devnagri_model.summary()"
   ]
  },
  {
   "cell_type": "markdown",
   "metadata": {},
   "source": [
    "# VERIFY THE CLASSSIFIER"
   ]
  },
  {
   "cell_type": "code",
   "execution_count": 14,
   "metadata": {},
   "outputs": [
    {
     "name": "stdout",
     "output_type": "stream",
     "text": [
      "[[2.09726339e-33 3.94538637e-38 1.67574948e-33 9.00184855e-22\n",
      "  3.99659857e-17 1.37144449e-15 5.05174751e-18 3.30807054e-23\n",
      "  0.00000000e+00 1.99991879e-32 3.23042681e-09 1.55283230e-19\n",
      "  1.48386822e-17 4.58221489e-15 2.39896988e-35 8.52646395e-27\n",
      "  1.67254693e-29 6.99944088e-17 3.66115748e-22 1.12013974e-29\n",
      "  3.35689021e-20 1.34109784e-28 1.82190415e-26 6.76518200e-37\n",
      "  0.00000000e+00 1.98500786e-23 1.01015197e-16 2.59925048e-30\n",
      "  6.80600977e-20 2.70462856e-30 2.63097321e-30 3.97689261e-30\n",
      "  1.56801807e-14 7.19921359e-31 3.94004792e-30 1.47305921e-36\n",
      "  2.23820162e-13 1.08937690e-22 1.70823201e-20 1.56700491e-21\n",
      "  1.46890596e-22 3.35217105e-26 7.69993533e-19 6.05939719e-20\n",
      "  1.00000000e+00 5.58290510e-19]]\n",
      "44\n",
      "The Image loaded is =  8\n"
     ]
    },
    {
     "data": {
      "image/png": "[encoded data removed]",
      "text/plain": [
       "<matplotlib.figure.Figure at 0x20e84b3fe80>"
      ]
     },
     "metadata": {
      "needs_background": "light"
     },
     "output_type": "display_data"
    }
   ],
   "source": [
    "#ENTER THE NAME OF THE IMAGE IN THE FILE ADDRESS TO DISPLAY THE RESULT\n",
    "img = image.load_img('Input The Image Path', target_size=(32, 32))\n",
    "x = image.img_to_array(img)\n",
    "x = np.expand_dims(x, axis=0)\n",
    "x = preprocess_input(x)\n",
    "imshow(img)\n",
    "Prediction={0:'ka',1:'kha',2:'ga',3:'gha',4:'kna',5:'cha',6:'chha',7:'ja',8:'jha',9:'yna',10:'taamatar',11:'thaa',12:'daa',13:'dhaa',14:'adna',15:'tabala',16:'tha',17:'da',18:'dha',19:'na',20:'pa',21:'pha',22:'ba',23:'bha',24:'ma',25:'yaw',26:'ra',27:'la',28:'waw',29:'motosaw',30:'petchiryakha',31:'patalosaw',32:'ha',33:'chhya',34:'tra',35:'gya',36:'0',37:'1',38:'2',39:'3',40:'4',41:'5',42:'6',43:'7',44:'8',45:'9'}\n",
    "print((devnagri_model.predict(x)))\n",
    "print(np.argmax(devnagri_model.predict(x)))\n",
    "a=np.argmax(devnagri_model.predict(x))\n",
    "print('The Image loaded is = ',Prediction[a])"
   ]
  },
  {
   "cell_type": "code",
   "execution_count": null,
   "metadata": {},
   "outputs": [],
   "source": []
  }
 ],
 "metadata": {
  "kernelspec": {
   "display_name": "Python 3",
   "language": "python",
   "name": "python3"
  },
  "language_info": {
   "codemirror_mode": {
    "name": "ipython",
    "version": 3
   },
   "file_extension": ".py",
   "mimetype": "text/x-python",
   "name": "python",
   "nbconvert_exporter": "python",
   "pygments_lexer": "ipython3",
   "version": "3.6.4"
  }
 },
 "nbformat": 4,
 "nbformat_minor": 2
}
