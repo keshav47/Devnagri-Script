{
 "cells": [
  {
   "cell_type": "code",
   "execution_count": 10,
   "metadata": {},
   "outputs": [],
   "source": [
    "import numpy as np\n",
    "from keras import layers\n",
    "from keras.layers import Input,Add, Dense, Activation, ZeroPadding2D, BatchNormalization, Flatten, Conv2D\n",
    "from keras.layers import AveragePooling2D, MaxPooling2D, Dropout, GlobalMaxPooling2D, GlobalAveragePooling2D\n",
    "from keras.models import Model\n",
    "from keras import regularizers, optimizers\n",
    "from keras.preprocessing import image\n",
    "from keras.utils import layer_utils\n",
    "from keras.utils.data_utils import get_file\n",
    "from keras.applications.imagenet_utils import preprocess_input\n",
    "from IPython.display import SVG\n",
    "from keras.utils.vis_utils import model_to_dot\n",
    "from keras.utils import plot_model\n",
    "from keras.initializers import glorot_uniform\n",
    "import keras.backend as K\n",
    "K.set_image_data_format('channels_last')\n",
    "import matplotlib.pyplot as plt\n",
    "from matplotlib.pyplot import imshow\n",
    "from keras.models import Sequential\n",
    "%matplotlib inline\n",
    "import cv2\n",
    "import os\n",
    "import scipy\n",
    "from scipy import ndimage\n",
    "import tensorflow as tf\n",
    "from tensorflow.python.framework import ops\n",
    "from keras.models import load_model"
   ]
  },
  {
   "cell_type": "markdown",
   "metadata": {},
   "source": [
    "# Computing Train And Test Set Data Values "
   ]
  },
  {
   "cell_type": "code",
   "execution_count": null,
   "metadata": {},
   "outputs": [],
   "source": [
    "def load_images_from_folder(folder):    #Function is used to convert all the images in train and test set into \n",
    "    images = []                         #arrays of values of pixels of the corresponding image\n",
    "    for filename in os.listdir(folder):\n",
    "        img = cv2.imread(os.path.join(folder,filename))\n",
    "        if img is not None:\n",
    "            images.append(img)\n",
    "    return images\n",
    "final_images=[]"
   ]
  },
  {
   "cell_type": "code",
   "execution_count": null,
   "metadata": {},
   "outputs": [],
   "source": [
    "train_images=[]         # Variable X_train contains the array of pixel values of all the images in Training Set\n",
    "for l in range(1,37):\n",
    "    images=load_images_from_folder(\"DevanagariHandwrittenCharacterDataset\\Train\\character_\"+ str(l))\n",
    "    train_images=train_images+images\n",
    "    \n",
    "for l in range(0,10):\n",
    "    images=load_images_from_folder(\"DevanagariHandwrittenCharacterDataset\\Train\\digit_\"+ str(l))\n",
    "    train_images=train_images+images    \n",
    "    \n",
    "X_train=train_images    "
   ]
  },
  {
   "cell_type": "code",
   "execution_count": 18,
   "metadata": {},
   "outputs": [
    {
     "data": {
      "text/plain": [
       "(78200, 1)"
      ]
     },
     "execution_count": 18,
     "metadata": {},
     "output_type": "execute_result"
    }
   ],
   "source": [
    "y=[]                   # corressponding labels to the different classes of images in Training Set are saved in train_label (0-45)\n",
    "for i in range(0,46):\n",
    "    for j in range(0,1700):\n",
    "        y.append(i)\n",
    "Y=np.array(y)        \n",
    "train_label=np.reshape(Y,(78200,1))\n",
    "np.shape(train_label)"
   ]
  },
  {
   "cell_type": "code",
   "execution_count": null,
   "metadata": {},
   "outputs": [],
   "source": [
    "test_images=[]          # Variable X_test contains the array of pixel values of all the images in Test Set\n",
    "for l in range(1,37):\n",
    "    images=load_images_from_folder(\"DevanagariHandwrittenCharacterDataset\\Test\\character_\"+ str(l))\n",
    "    test_images=test_images+images\n",
    "\n",
    "for l in range(0,10):\n",
    "    images=load_images_from_folder(\"DevanagariHandwrittenCharacterDataset\\Test\\digit_\"+ str(l))\n",
    "    test_images=test_images+images    \n",
    "\n",
    "X_test=test_images     "
   ]
  },
  {
   "cell_type": "code",
   "execution_count": 19,
   "metadata": {},
   "outputs": [
    {
     "data": {
      "text/plain": [
       "(13800, 1)"
      ]
     },
     "execution_count": 19,
     "metadata": {},
     "output_type": "execute_result"
    }
   ],
   "source": [
    "y=[]                  # corressponding labels to the different classes of images in Test Set are saved in test_labels (0-45)    \n",
    "for i in range(0,46):\n",
    "    for j in range(0,300):\n",
    "        y.append(i)\n",
    "Y=np.array(y)        \n",
    "test_label=np.reshape(Y,(13800,1))\n",
    "np.shape(test_label)"
   ]
  },
  {
   "cell_type": "code",
   "execution_count": null,
   "metadata": {},
   "outputs": [],
   "source": [
    "def one_hot_matrix(labels,C):       # This Function converts the labels into a One Hot Matrix i.e for label such as a=[0,1,2]\n",
    "    C=tf.constant(C)                # the one hot matrix conversion of a would be = [[1,0,0],[0,1,0],[0,0,1]]\n",
    "    _m=tf.one_hot(labels,C,axis=0)\n",
    "    sess = tf.Session()\n",
    "    _hot=sess.run(_m)\n",
    "    sess.close()\n",
    "    return _hot"
   ]
  },
  {
   "cell_type": "code",
   "execution_count": null,
   "metadata": {},
   "outputs": [],
   "source": [
    "#Converting the corresponding Train Labels into their One Hot Matrix\n",
    "Y_train_=one_hot_matrix(train_label,46).reshape(46,78200)\n",
    "Y_test_=one_hot_matrix(test_label,46).reshape(46,13800)\n",
    "Y_train=Y_train_.T\n",
    "Y_test=Y_test_.T"
   ]
  },
  {
   "cell_type": "code",
   "execution_count": null,
   "metadata": {},
   "outputs": [],
   "source": [
    "#all the dataset is then saved into its corressponding numpy file\n",
    "np.save(\"X_train\",X_train)\n",
    "np.save(\"Y_train\",Y_train)\n",
    "np.save(\"X_test\",X_test)\n",
    "np.save(\"Y_test\",Y_test)"
   ]
  },
  {
   "cell_type": "code",
   "execution_count": 2,
   "metadata": {},
   "outputs": [],
   "source": [
    "# the saved data is loaded\n",
    "X_train=np.load(\"X_train.npy\")\n",
    "Y_train=np.load(\"Y_train.npy\")\n",
    "X_test=np.load(\"X_test.npy\")\n",
    "Y_test=np.load(\"Y_test.npy\")"
   ]
  },
  {
   "cell_type": "code",
   "execution_count": 3,
   "metadata": {
    "scrolled": true
   },
   "outputs": [
    {
     "name": "stdout",
     "output_type": "stream",
     "text": [
      "X_train Shape =  (78200, 32, 32, 3)\n",
      "Y_train Shape =  (78200, 46)\n",
      "X_test Shape =  (13800, 32, 32, 3)\n",
      "Y_test Shape =  (13800, 46)\n"
     ]
    }
   ],
   "source": [
    "print(\"X_train Shape = \",np.shape(X_train))\n",
    "print(\"Y_train Shape = \",np.shape(Y_train))\n",
    "print(\"X_test Shape = \",np.shape(X_test))\n",
    "print(\"Y_test Shape = \",np.shape(Y_test))"
   ]
  },
  {
   "cell_type": "markdown",
   "metadata": {},
   "source": [
    "# DESIN OF THE CONVOLUTIONAL NETWORK LAYERS"
   ]
  },
  {
   "cell_type": "markdown",
   "metadata": {},
   "source": [
    "![title](convolution.jpeg)"
   ]
  },
  {
   "cell_type": "code",
   "execution_count": null,
   "metadata": {},
   "outputs": [],
   "source": [
    "# Using Convolutional Neural Network\n",
    "def Devnagri(input_shape):\n",
    "    X_input=Input(input_shape)\n",
    "    X=Conv2D(6,(5,5),strides=(1,1),name='conv0')(X_input)    \n",
    "    X=BatchNormalization(axis=3,name='bn0')(X) # it reduces the covariate shift thus centering the dataset and reducing the computational load\n",
    "    X=Activation('relu')(X) \n",
    "    X = MaxPooling2D((2, 2),strides=(2,2), name='max_pool_1')(X)\n",
    "    X=Conv2D(16,(5,5),strides=(1,1),name='conv1')(X)\n",
    "    X=BatchNormalization(axis=3,name='bn1')(X)\n",
    "    X=Activation('relu')(X)\n",
    "    X = MaxPooling2D((2, 2),strides=(2,2), name='max_pool_2')(X)\n",
    "    X = Flatten()(X)\n",
    "    X = Dense(46, activation='softmax', name='fc1',kernel_initializer = glorot_uniform(seed=0))(X)\n",
    "    model = Model(inputs = X_input, outputs = X, name='Devnagri')\n",
    "    return model"
   ]
  },
  {
   "cell_type": "markdown",
   "metadata": {},
   "source": [
    "# COMPUTING THE DEVNAGRI MODEL WITH ADAM OPTIMIZATION"
   ]
  },
  {
   "cell_type": "code",
   "execution_count": null,
   "metadata": {},
   "outputs": [],
   "source": [
    "devnagri_model=Devnagri(X_train.shape[1:])\n",
    "devnagri_model.compile(optimizer='adam',\n",
    "              loss='categorical_crossentropy',\n",
    "              metrics=['accuracy'])\n",
    "devnagri_model.fit(x = X_train, y = Y_train, epochs = 20,batch_size=32)"
   ]
  },
  {
   "cell_type": "code",
   "execution_count": null,
   "metadata": {},
   "outputs": [],
   "source": [
    "#Saving the model learned\n",
    "devnagri_model.save(\"devnagri_params.h5\")"
   ]
  },
  {
   "cell_type": "code",
   "execution_count": 10,
   "metadata": {},
   "outputs": [],
   "source": [
    "#loading the learned model\n",
    "devnagri_model = load_model(\"devnagri_params.h5\")"
   ]
  },
  {
   "cell_type": "markdown",
   "metadata": {},
   "source": [
    "# ACCURACY ON THE TEST SET"
   ]
  },
  {
   "cell_type": "code",
   "execution_count": 13,
   "metadata": {},
   "outputs": [
    {
     "name": "stdout",
     "output_type": "stream",
     "text": [
      "13800/13800 [==============================] - 17s 1ms/step\n",
      "Loss = 0.13500062845882987\n",
      "Test Accuracy = 0.9660869565217391\n"
     ]
    }
   ],
   "source": [
    "preds = devnagri_model.evaluate(X_test, Y_test)\n",
    "print (\"Loss = \" + str(preds[0]))\n",
    "print (\"Test Accuracy = \" + str(preds[1]))"
   ]
  },
  {
   "cell_type": "code",
   "execution_count": 31,
   "metadata": {},
   "outputs": [
    {
     "name": "stdout",
     "output_type": "stream",
     "text": [
      "_________________________________________________________________\n",
      "Layer (type)                 Output Shape              Param #   \n",
      "=================================================================\n",
      "input_1 (InputLayer)         (None, 32, 32, 3)         0         \n",
      "_________________________________________________________________\n",
      "conv0 (Conv2D)               (None, 28, 28, 6)         456       \n",
      "_________________________________________________________________\n",
      "bn0 (BatchNormalization)     (None, 28, 28, 6)         24        \n",
      "_________________________________________________________________\n",
      "activation_1 (Activation)    (None, 28, 28, 6)         0         \n",
      "_________________________________________________________________\n",
      "max_pool_1 (MaxPooling2D)    (None, 14, 14, 6)         0         \n",
      "_________________________________________________________________\n",
      "conv1 (Conv2D)               (None, 10, 10, 16)        2416      \n",
      "_________________________________________________________________\n",
      "bn1 (BatchNormalization)     (None, 10, 10, 16)        64        \n",
      "_________________________________________________________________\n",
      "activation_2 (Activation)    (None, 10, 10, 16)        0         \n",
      "_________________________________________________________________\n",
      "max_pool_2 (MaxPooling2D)    (None, 5, 5, 16)          0         \n",
      "_________________________________________________________________\n",
      "flatten_1 (Flatten)          (None, 400)               0         \n",
      "_________________________________________________________________\n",
      "fc1 (Dense)                  (None, 46)                18446     \n",
      "=================================================================\n",
      "Total params: 21,406\n",
      "Trainable params: 21,362\n",
      "Non-trainable params: 44\n",
      "_________________________________________________________________\n"
     ]
    }
   ],
   "source": [
    "#model summary\n",
    "devnagri_model.summary()"
   ]
  },
  {
   "cell_type": "markdown",
   "metadata": {},
   "source": [
    "# VERIFY THE CLASSIFIER "
   ]
  },
  {
   "cell_type": "code",
   "execution_count": 24,
   "metadata": {},
   "outputs": [
    {
     "name": "stdout",
     "output_type": "stream",
     "text": [
      "[[2.09726339e-33 3.94538637e-38 1.67574948e-33 9.00184855e-22\n",
      "  3.99659857e-17 1.37144449e-15 5.05174751e-18 3.30807054e-23\n",
      "  0.00000000e+00 1.99991879e-32 3.23042681e-09 1.55283230e-19\n",
      "  1.48386822e-17 4.58221489e-15 2.39896988e-35 8.52646395e-27\n",
      "  1.67254693e-29 6.99944088e-17 3.66115748e-22 1.12013974e-29\n",
      "  3.35689021e-20 1.34109784e-28 1.82190415e-26 6.76518200e-37\n",
      "  0.00000000e+00 1.98500786e-23 1.01015197e-16 2.59925048e-30\n",
      "  6.80600977e-20 2.70462856e-30 2.63097321e-30 3.97689261e-30\n",
      "  1.56801807e-14 7.19921359e-31 3.94004792e-30 1.47305921e-36\n",
      "  2.23820162e-13 1.08937690e-22 1.70823201e-20 1.56700491e-21\n",
      "  1.46890596e-22 3.35217105e-26 7.69993533e-19 6.05939719e-20\n",
      "  1.00000000e+00 5.58290510e-19]]\n",
      "44\n",
      "The Image loaded is =  8\n"
     ]
    },
    {
     "data": {
      "image/png": "[encoded data removed]",
      "text/plain": [
       "<matplotlib.figure.Figure at 0x1b85ff9a7f0>"
      ]
     },
     "metadata": {
      "needs_background": "light"
     },
     "output_type": "display_data"
    }
   ],
   "source": [
    "#ENTER THE NAME OF THE IMAGE IN THE FILE ADDRESS TO DISPLAY THE RESULT\n",
    "img = image.load_img('8.png', target_size=(32, 32))\n",
    "x = image.img_to_array(img)\n",
    "x = np.expand_dims(x, axis=0)\n",
    "x = preprocess_input(x)\n",
    "imshow(img)\n",
    "Prediction={0:'ka',1:'kha',2:'ga',3:'gha',4:'kna',5:'cha',6:'chha',7:'ja',8:'jha',9:'yna',10:'taamatar',11:'thaa',12:'daa',13:'dhaa',14:'adna',15:'tabala',16:'tha',17:'da',18:'dha',19:'na',20:'pa',21:'pha',22:'ba',23:'bha',24:'ma',25:'yaw',26:'ra',27:'la',28:'waw',29:'motosaw',30:'petchiryakha',31:'patalosaw',32:'ha',33:'chhya',34:'tra',35:'gya',36:'0',37:'1',38:'2',39:'3',40:'4',41:'5',42:'6',43:'7',44:'8',45:'9'}\n",
    "print((devnagri_model.predict(x)))\n",
    "print(np.argmax(devnagri_model.predict(x)))\n",
    "a=np.argmax(devnagri_model.predict(x))\n",
    "print('The Image loaded is = ',Prediction[a])"
   ]
  },
  {
   "cell_type": "code",
   "execution_count": null,
   "metadata": {},
   "outputs": [],
   "source": []
  }
 ],
 "metadata": {
  "kernelspec": {
   "display_name": "Python 3",
   "language": "python",
   "name": "python3"
  },
  "language_info": {
   "codemirror_mode": {
    "name": "ipython",
    "version": 3
   },
   "file_extension": ".py",
   "mimetype": "text/x-python",
   "name": "python",
   "nbconvert_exporter": "python",
   "pygments_lexer": "ipython3",
   "version": "3.6.4"
  }
 },
 "nbformat": 4,
 "nbformat_minor": 2
}
